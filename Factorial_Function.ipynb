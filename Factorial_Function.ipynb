{
  "nbformat": 4,
  "nbformat_minor": 0,
  "metadata": {
    "colab": {
      "provenance": [],
      "authorship_tag": "ABX9TyMc08w30ouq70rfrl0JEpnc",
      "include_colab_link": true
    },
    "kernelspec": {
      "name": "python3",
      "display_name": "Python 3"
    },
    "language_info": {
      "name": "python"
    }
  },
  "cells": [
    {
      "cell_type": "markdown",
      "metadata": {
        "id": "view-in-github",
        "colab_type": "text"
      },
      "source": [
        "<a href=\"https://colab.research.google.com/github/iam-jatoi/Assignment/blob/main/Factorial_Function.ipynb\" target=\"_parent\"><img src=\"https://colab.research.google.com/assets/colab-badge.svg\" alt=\"Open In Colab\"/></a>"
      ]
    },
    {
      "cell_type": "markdown",
      "source": [
        "**Assignment - Use Factorial Fuction**\n"
      ],
      "metadata": {
        "id": "HhIavTk_ElFk"
      }
    },
    {
      "cell_type": "code",
      "source": [
        "import math\n",
        "\n",
        "numbers = [1, 2, 3, 4, 5]\n",
        "\n",
        "def factorial(num: int):\n",
        "    return math.factorial(num)\n",
        "\n",
        "print(factorial(5) - 1)\n"
      ],
      "metadata": {
        "colab": {
          "base_uri": "https://localhost:8080/"
        },
        "id": "OrIW7KjVEylQ",
        "outputId": "1daf67bb-e1ac-4178-9b09-5b2e86cabbf8"
      },
      "execution_count": 3,
      "outputs": [
        {
          "output_type": "stream",
          "name": "stdout",
          "text": [
            "119\n"
          ]
        }
      ]
    }
  ]
}