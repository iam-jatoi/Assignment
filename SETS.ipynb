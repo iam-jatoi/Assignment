{
  "nbformat": 4,
  "nbformat_minor": 0,
  "metadata": {
    "colab": {
      "provenance": [],
      "authorship_tag": "ABX9TyOQOTrNefoNbUlsrEieuxHr",
      "include_colab_link": true
    },
    "kernelspec": {
      "name": "python3",
      "display_name": "Python 3"
    },
    "language_info": {
      "name": "python"
    }
  },
  "cells": [
    {
      "cell_type": "markdown",
      "metadata": {
        "id": "view-in-github",
        "colab_type": "text"
      },
      "source": [
        "<a href=\"https://colab.research.google.com/github/iam-jatoi/Assignment/blob/main/SETS.ipynb\" target=\"_parent\"><img src=\"https://colab.research.google.com/assets/colab-badge.svg\" alt=\"Open In Colab\"/></a>"
      ]
    },
    {
      "cell_type": "code",
      "execution_count": 17,
      "metadata": {
        "colab": {
          "base_uri": "https://localhost:8080/"
        },
        "id": "RlCaAUCGJpH5",
        "outputId": "0a61c160-7d2c-45e8-b8a9-13ea4cd25dc2"
      },
      "outputs": [
        {
          "output_type": "stream",
          "name": "stdout",
          "text": [
            "{'Desk', 'Table', 'Cupbaord', 'Chair'}\n",
            "{'Desk', 'Cupbaord', 'Chair', 'Wooden Sofa', 'Table'}\n",
            "{'Desk', 'Cupbaord', 'Chair'}\n",
            "{'Desk', 'Table', 'Cupbaord', 'Chair'}\n",
            "{1, 2, 3, 4, 5}\n",
            "{2, 3, 6}\n",
            "{8, 1}\n"
          ]
        }
      ],
      "source": [
        "# Set is Data Type, There are 4 Data types.. List, Tuple, Dictionary, Set.\n",
        "# A set is a collection which is *unordered*, *unchangeable*, and *unindexed*.\n",
        "# Once a set is created, you cannot change its items, but you can remove items and add new items.\n",
        "# Set items are unordered, unchangeable, and do not allow duplicate values.\n",
        "\n",
        "\n",
        "# Union: Combines all elements from both sets.\n",
        "# Pop: Removes a random element from the set.\n",
        "# Intersection: Finds common elements between two sets.\n",
        "# Difference: Finds elements in one set but not in the other.\n",
        "\n",
        "\n",
        "\n",
        "furniture = {\"Table\",\"Chair\",\"Desk\",\"Cupbaord\"}\n",
        "print(furniture)\n",
        "\n",
        "# Add = It will Add items\n",
        "furniture = {\"Table\",\"Chair\",\"Desk\",\"Cupbaord\"}\n",
        "furniture.add(\"Wooden Sofa\")\n",
        "print(furniture)\n",
        "\n",
        "# remove - it will remove\n",
        "furniture = {\"Table\",\"Chair\",\"Desk\",\"Cupbaord\"}\n",
        "furniture.remove(\"Table\")\n",
        "print(furniture)\n",
        "\n",
        "# Duplicate items: it will not allow duplication of items\n",
        "furniture = {\"Table\",\"Chair\",\"Desk\",\"Cupbaord\",\"Table\",\"Chair\"}\n",
        "print(furniture)\n",
        "\n",
        "\n",
        "# String, int and boolean data types:\n",
        "set1 = {\"apple\", \"banana\", \"cherry\"}\n",
        "set2 = {1, 5, 7, 9, 3}\n",
        "set3 = {True, False, False}\n",
        "\n",
        "# Union - duplicate items will be removed automatically\n",
        "set1 = {1, 2, 3}\n",
        "set2 = {3, 4, 5}\n",
        "union_set = set1.union(set2)\n",
        "print(union_set)\n",
        "\n",
        "\n",
        "# Intersection = The intersection of two sets is a set containing all elements that are present in both sets.\n",
        "set1 = {1, 2, 3, 6}\n",
        "set2 = {2, 3, 4, 6}\n",
        "intersection_set = set1.intersection(set2)\n",
        "print(intersection_set)  # output = 2, 3, 6 - these numbers are available in boht sets 1 & 2.\n",
        "\n",
        "\n",
        "# Difference - Finds elements in one set but not in the other.\n",
        "set1 = {1, 4, 8, 2, 3,}\n",
        "set2 = {2, 3, 4, 6}\n",
        "difference_set = set1.difference(set2)\n",
        "print(difference_set)\n",
        "\n",
        "\n",
        "\n"
      ]
    }
  ]
}